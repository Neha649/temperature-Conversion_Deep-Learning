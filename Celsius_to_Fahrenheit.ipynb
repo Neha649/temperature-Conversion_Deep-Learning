{
  "nbformat": 4,
  "nbformat_minor": 0,
  "metadata": {
    "colab": {
      "name": "Celsius to Fahrenheit ",
      "provenance": [],
      "collapsed_sections": []
    },
    "kernelspec": {
      "name": "python3",
      "display_name": "Python 3"
    },
    "language_info": {
      "name": "python"
    }
  },
  "cells": [
    {
      "cell_type": "markdown",
      "metadata": {
        "id": "SvbbHzu4MfCP"
      },
      "source": [
        "# Importing dependencies"
      ]
    },
    {
      "cell_type": "code",
      "metadata": {
        "id": "IBSgrFoZMIQT"
      },
      "source": [
        "import tensorflow as tf\n",
        "import numpy as np\n",
        "import logging\n",
        "logger=tf.get_logger()\n",
        "logger.setLevel(logging.ERROR)"
      ],
      "execution_count": null,
      "outputs": []
    },
    {
      "cell_type": "markdown",
      "metadata": {
        "id": "d0D9WTKiM3-l"
      },
      "source": [
        "# Setting up training data"
      ]
    },
    {
      "cell_type": "code",
      "metadata": {
        "colab": {
          "base_uri": "https://localhost:8080/"
        },
        "id": "c71kuhenMdji",
        "outputId": "854eb661-2cad-40f8-9731-ab3cc4aa6a22"
      },
      "source": [
        "celsius=np.array([-40, -10, 0, 8, 38, 15],dtype=float)\n",
        "fahr=np.array([-40, 14, 32, 46, 100, 59],dtype=float)\n",
        "\n",
        "for i,c in enumerate(celsius):\n",
        "  print(\"for celsius={}, fahreheit={}\".format(c,fahr[i]))"
      ],
      "execution_count": null,
      "outputs": [
        {
          "output_type": "stream",
          "text": [
            "for celsius=-40.0, fahreheit=-40.0\n",
            "for celsius=-10.0, fahreheit=14.0\n",
            "for celsius=0.0, fahreheit=32.0\n",
            "for celsius=8.0, fahreheit=46.0\n",
            "for celsius=38.0, fahreheit=100.0\n",
            "for celsius=15.0, fahreheit=59.0\n"
          ],
          "name": "stdout"
        }
      ]
    },
    {
      "cell_type": "markdown",
      "metadata": {
        "id": "Vk1Ccma_WTcj"
      },
      "source": [
        "# Creating a model\n",
        "we'll create a network with a single layer,with a single neuron\n"
      ]
    },
    {
      "cell_type": "code",
      "metadata": {
        "id": "o20jxfS-Q7zZ"
      },
      "source": [
        "layer1=tf.keras.layers.Dense(units=1,input_shape=[1]) \n",
        "# unit= k : k denotes number of neurons in the layer ie the number of internal variables \n",
        "#input_shape[n] : n denotes dimension passed to the network that is the shape of inputt is 1D array"
      ],
      "execution_count": null,
      "outputs": []
    },
    {
      "cell_type": "markdown",
      "metadata": {
        "id": "p4QQgL0gauBu"
      },
      "source": [
        "Assemble layer into model"
      ]
    },
    {
      "cell_type": "code",
      "metadata": {
        "id": "990GzGpRaFH1"
      },
      "source": [
        "model=tf.keras.Sequential([layer1])"
      ],
      "execution_count": null,
      "outputs": []
    },
    {
      "cell_type": "code",
      "metadata": {
        "id": "YAezOKTmc3LT"
      },
      "source": [
        "model.compile(loss='mean_squared_error',optimizer=tf.keras.optimizers.Adam(0.1))"
      ],
      "execution_count": null,
      "outputs": []
    },
    {
      "cell_type": "markdown",
      "metadata": {
        "id": "wkdFyUvLd20L"
      },
      "source": [
        "# Training the model"
      ]
    },
    {
      "cell_type": "code",
      "metadata": {
        "id": "iwPCr_fFdMl8"
      },
      "source": [
        "history=model.fit(celsius,fahr,epochs=5000,verbose=False)"
      ],
      "execution_count": null,
      "outputs": []
    },
    {
      "cell_type": "markdown",
      "metadata": {
        "id": "Ex42ScZcejP1"
      },
      "source": [
        "## Displaying the training stats"
      ]
    },
    {
      "cell_type": "code",
      "metadata": {
        "colab": {
          "base_uri": "https://localhost:8080/",
          "height": 296
        },
        "id": "w1GdzZIEd2P7",
        "outputId": "db30e591-4bec-4f8e-e9a9-c79b7b0f9088"
      },
      "source": [
        "import matplotlib.pyplot as plt\n",
        "plt.xlabel('number of epoch')\n",
        "plt.ylabel('loss magnitude')\n",
        "plt.plot(history.history['loss'])"
      ],
      "execution_count": null,
      "outputs": [
        {
          "output_type": "execute_result",
          "data": {
            "text/plain": [
              "[<matplotlib.lines.Line2D at 0x7f71538e8090>]"
            ]
          },
          "metadata": {
            "tags": []
          },
          "execution_count": 13
        },
        {
          "output_type": "display_data",
          "data": {
            "image/png": "[encoded data removed]",
            "text/plain": [
              "<Figure size 432x288 with 1 Axes>"
            ]
          },
          "metadata": {
            "tags": [],
            "needs_background": "light"
          }
        }
      ]
    },
    {
      "cell_type": "markdown",
      "metadata": {
        "id": "v9XuTWJafEh7"
      },
      "source": [
        "# Using the model to predict values"
      ]
    },
    {
      "cell_type": "code",
      "metadata": {
        "colab": {
          "base_uri": "https://localhost:8080/"
        },
        "id": "vtykKEG2d2TS",
        "outputId": "025c2fea-969a-4461-a40c-70644dc8ea83"
      },
      "source": [
        "print(model.predict([100.0]))"
      ],
      "execution_count": null,
      "outputs": [
        {
          "output_type": "stream",
          "text": [
            "[[211.37958]]\n"
          ],
          "name": "stdout"
        }
      ]
    },
    {
      "cell_type": "code",
      "metadata": {
        "colab": {
          "base_uri": "https://localhost:8080/"
        },
        "id": "7lZwQ1IKfOjb",
        "outputId": "84048acf-72dd-4491-dd43-f35651f98605"
      },
      "source": [
        "print(\"correct ans= {}\".format(100*1.8+32))"
      ],
      "execution_count": null,
      "outputs": [
        {
          "output_type": "stream",
          "text": [
            "correct ans= 212.0\n"
          ],
          "name": "stdout"
        }
      ]
    },
    {
      "cell_type": "markdown",
      "metadata": {
        "id": "jag7OuetfzA8"
      },
      "source": [
        "Looking at the layer weights"
      ]
    },
    {
      "cell_type": "code",
      "metadata": {
        "id": "kmIkVdkbnZJI",
        "colab": {
          "base_uri": "https://localhost:8080/"
        },
        "outputId": "ece10da3-a463-4072-9758-5ab6d008d8a0"
      },
      "source": [
        "print(\"These are the layer variables: {}\".format(layer1.get_weights()))"
      ],
      "execution_count": null,
      "outputs": [
        {
          "output_type": "stream",
          "text": [
            "These are the layer variables: [array([[1.7950383]], dtype=float32), array([31.875753], dtype=float32)]\n"
          ],
          "name": "stdout"
        }
      ]
    },
    {
      "cell_type": "code",
      "metadata": {
        "colab": {
          "base_uri": "https://localhost:8080/"
        },
        "id": "uush7oGef5tW",
        "outputId": "c58173c4-569a-421c-8381-9fd281a6d88f"
      },
      "source": [
        "l0 = tf.keras.layers.Dense(units=4, input_shape=[1])\n",
        "l1 = tf.keras.layers.Dense(units=4)\n",
        "l2 = tf.keras.layers.Dense(units=1)\n",
        "model = tf.keras.Sequential([l0, l1, l2])\n",
        "model.compile(loss='mean_squared_error', optimizer=tf.keras.optimizers.Adam(0.1))\n",
        "model.fit(celsius, fahr, epochs=500, verbose=False)\n",
        "print(\"Finished training the model\")\n",
        "print(model.predict([100.0]))\n",
        "print(\"Model predicts that 100 degrees Celsius is: {} degrees Fahrenheit\".format(model.predict([100.0])))\n",
        "print(\"These are the l0 variables: {}\".format(l0.get_weights()))\n",
        "print(\"These are the l1 variables: {}\".format(l1.get_weights()))\n",
        "print(\"These are the l2 variables: {}\".format(l2.get_weights()))"
      ],
      "execution_count": null,
      "outputs": [
        {
          "output_type": "stream",
          "text": [
            "Finished training the model\n",
            "[[211.3796]]\n",
            "Model predicts that 100 degrees Celsius is: [[211.3796]] degrees Fahrenheit\n",
            "These are the l0 variables: [array([[-0.65511817, -0.15062869, -0.11618298,  0.00467048]],\n",
            "      dtype=float32), array([-2.9314785,  1.8517945,  2.4077282,  2.1081197], dtype=float32)]\n",
            "These are the l1 variables: [array([[ 1.0116665 ,  0.00994464, -1.0030293 , -0.56977534],\n",
            "       [-0.9381293 , -0.48241964,  0.07266664,  0.334514  ],\n",
            "       [-0.4126235 , -0.01029921,  0.557226  , -0.04797397],\n",
            "       [-0.55449647,  0.55766386, -0.23711172, -0.34179753]],\n",
            "      dtype=float32), array([-2.9584377,  2.7098026,  2.945553 ,  2.5614665], dtype=float32)]\n",
            "These are the l2 variables: [array([[-1.416776  ],\n",
            "       [ 0.7751437 ],\n",
            "       [ 1.3799388 ],\n",
            "       [ 0.81225485]], dtype=float32), array([2.9493837], dtype=float32)]\n"
          ],
          "name": "stdout"
        }
      ]
    },
    {
      "cell_type": "code",
      "metadata": {
        "id": "RH2F4H9Qgp9U"
      },
      "source": [
        ""
      ],
      "execution_count": null,
      "outputs": []
    }
  ]
}